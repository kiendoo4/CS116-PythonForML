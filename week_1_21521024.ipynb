{
 "cells": [
  {
   "cell_type": "markdown",
   "metadata": {
    "id": "XUAEEQ7Ypwuq"
   },
   "source": [
    "`Họ và tên: Nguyễn Trung Kiên`\n",
    "\n",
    "`MSSV: 21521024`\n",
    "\n",
    "`Lớp: CS116.O11`"
   ]
  },
  {
   "cell_type": "markdown",
   "metadata": {
    "id": "XUAEEQ7Ypwuq"
   },
   "source": [
    "## Bài 1: Các Thao Tác Cơ Bản trên Dữ Liệu\n",
    "\n",
    "Trong bài này, chúng ta sẽ sử dụng thư viện `pandas` và `openpyxl`.\n",
    "\n",
    "Nếu bạn đang làm việc trên máy tính cá nhân và muốn cài đặt các thư viện này, hãy mở cửa sổ `Terminal` và chạy lệnh sau: `pip install pandas==2.1.1 openpyxl==3.1.2`."
   ]
  },
  {
   "cell_type": "code",
   "execution_count": 98,
   "metadata": {
    "id": "Ou7tnN__0ZIL"
   },
   "outputs": [],
   "source": [
    "### BEGIN SOLUTION\n",
    "import pandas as pd\n",
    "### END SOLUTION"
   ]
  },
  {
   "cell_type": "markdown",
   "metadata": {
    "id": "25he0hV40ZIM"
   },
   "source": [
    "### 1. Đọc dữ liệu từ tệp CSV\n",
    "\n",
    "Sử dụng phương thức `read_csv()` của thư viện `pandas` để đọc dữ liệu từ tệp tin tại đường dẫn `'heart.csv'` và lưu vào một biến DataFrame có tên là `df_csv`."
   ]
  },
  {
   "cell_type": "code",
   "execution_count": 99,
   "metadata": {
    "id": "iVsTfqy90ZIM"
   },
   "outputs": [],
   "source": [
    "### BEGIN SOLUTION\n",
    "df_csv = pd.read_csv('heart.csv')\n",
    "### END SOLUTION"
   ]
  },
  {
   "cell_type": "markdown",
   "metadata": {
    "id": "zOIER3B70ZIN"
   },
   "source": [
    "### 2. Đọc dữ liệu từ tệp XLSX\n",
    "\n",
    "Sử dụng phương thức `read_excel()` của thư viện `pandas` để đọc dữ liệu từ tệp tin tại đường dẫn `'heart.xlsx'` và lưu vào một biến DataFrame có tên là `df_xlsx`."
   ]
  },
  {
   "cell_type": "code",
   "execution_count": 100,
   "metadata": {
    "id": "ZGcFkgYO0ZIN"
   },
   "outputs": [],
   "source": [
    "### BEGIN SOLUTION\n",
    "df_xlsx = pd.read_excel('heart.xlsx')\n",
    "### END SOLUTION"
   ]
  },
  {
   "cell_type": "code",
   "execution_count": 101,
   "metadata": {
    "id": "iKMvx3j-0ZIO"
   },
   "outputs": [],
   "source": [
    "assert 'df_csv' in globals()\n",
    "assert 'df_xlsx' in globals()"
   ]
  },
  {
   "cell_type": "code",
   "execution_count": 102,
   "metadata": {
    "id": "5KNSmCPb0ZIO"
   },
   "outputs": [],
   "source": [
    "### BEGIN HIDDEN TESTS\n",
    "assert df_csv.iloc[0, 6] == 1\n",
    "assert df_csv.iloc[0, 6].dtype == 'int64'\n",
    "assert df_csv.iloc[0, 4] == 145\n",
    "### END HIDDEN TESTS"
   ]
  },
  {
   "cell_type": "markdown",
   "metadata": {
    "id": "b7R7oXIf0ZIQ"
   },
   "source": [
    "### 3. Xoá Dữ Liệu\n",
    "\n",
    "Để tiếp tục thực hiện các thao tác xử lý dữ liệu, chúng ta sẽ sử dụng bộ dữ liệu được lưu trong biến `df_csv`."
   ]
  },
  {
   "cell_type": "code",
   "execution_count": 103,
   "metadata": {
    "colab": {
     "base_uri": "https://localhost:8080/",
     "height": 206
    },
    "id": "FlyGLfW30ZIQ",
    "outputId": "d7a18cef-18ad-442d-ff24-c071e41a35db"
   },
   "outputs": [
    {
     "data": {
      "text/html": [
       "<div>\n",
       "<style scoped>\n",
       "    .dataframe tbody tr th:only-of-type {\n",
       "        vertical-align: middle;\n",
       "    }\n",
       "\n",
       "    .dataframe tbody tr th {\n",
       "        vertical-align: top;\n",
       "    }\n",
       "\n",
       "    .dataframe thead th {\n",
       "        text-align: right;\n",
       "    }\n",
       "</style>\n",
       "<table border=\"1\" class=\"dataframe\">\n",
       "  <thead>\n",
       "    <tr style=\"text-align: right;\">\n",
       "      <th></th>\n",
       "      <th>Unnamed: 0</th>\n",
       "      <th>Age</th>\n",
       "      <th>Sex</th>\n",
       "      <th>ChestPain</th>\n",
       "      <th>RestBP</th>\n",
       "      <th>Chol</th>\n",
       "      <th>Fbs</th>\n",
       "      <th>RestECG</th>\n",
       "      <th>MaxHR</th>\n",
       "      <th>ExAng</th>\n",
       "      <th>Oldpeak</th>\n",
       "      <th>Slope</th>\n",
       "      <th>Ca</th>\n",
       "      <th>Thal</th>\n",
       "      <th>AHD</th>\n",
       "    </tr>\n",
       "  </thead>\n",
       "  <tbody>\n",
       "    <tr>\n",
       "      <th>0</th>\n",
       "      <td>1</td>\n",
       "      <td>63</td>\n",
       "      <td>1</td>\n",
       "      <td>typical</td>\n",
       "      <td>145</td>\n",
       "      <td>233</td>\n",
       "      <td>1</td>\n",
       "      <td>2</td>\n",
       "      <td>150</td>\n",
       "      <td>0</td>\n",
       "      <td>2.3</td>\n",
       "      <td>3</td>\n",
       "      <td>0</td>\n",
       "      <td>fixed</td>\n",
       "      <td>No</td>\n",
       "    </tr>\n",
       "    <tr>\n",
       "      <th>1</th>\n",
       "      <td>2</td>\n",
       "      <td>67</td>\n",
       "      <td>1</td>\n",
       "      <td>asymptomatic</td>\n",
       "      <td>160</td>\n",
       "      <td>286</td>\n",
       "      <td>0</td>\n",
       "      <td>2</td>\n",
       "      <td>108</td>\n",
       "      <td>1</td>\n",
       "      <td>1.5</td>\n",
       "      <td>2</td>\n",
       "      <td>3</td>\n",
       "      <td>normal</td>\n",
       "      <td>Yes</td>\n",
       "    </tr>\n",
       "    <tr>\n",
       "      <th>2</th>\n",
       "      <td>3</td>\n",
       "      <td>67</td>\n",
       "      <td>1</td>\n",
       "      <td>asymptomatic</td>\n",
       "      <td>120</td>\n",
       "      <td>229</td>\n",
       "      <td>0</td>\n",
       "      <td>2</td>\n",
       "      <td>129</td>\n",
       "      <td>1</td>\n",
       "      <td>2.6</td>\n",
       "      <td>2</td>\n",
       "      <td>2</td>\n",
       "      <td>reversable</td>\n",
       "      <td>Yes</td>\n",
       "    </tr>\n",
       "    <tr>\n",
       "      <th>3</th>\n",
       "      <td>4</td>\n",
       "      <td>37</td>\n",
       "      <td>1</td>\n",
       "      <td>nonanginal</td>\n",
       "      <td>130</td>\n",
       "      <td>250</td>\n",
       "      <td>0</td>\n",
       "      <td>0</td>\n",
       "      <td>187</td>\n",
       "      <td>0</td>\n",
       "      <td>3.5</td>\n",
       "      <td>3</td>\n",
       "      <td>0</td>\n",
       "      <td>normal</td>\n",
       "      <td>No</td>\n",
       "    </tr>\n",
       "    <tr>\n",
       "      <th>4</th>\n",
       "      <td>5</td>\n",
       "      <td>41</td>\n",
       "      <td>0</td>\n",
       "      <td>nontypical</td>\n",
       "      <td>130</td>\n",
       "      <td>204</td>\n",
       "      <td>0</td>\n",
       "      <td>2</td>\n",
       "      <td>172</td>\n",
       "      <td>0</td>\n",
       "      <td>1.4</td>\n",
       "      <td>1</td>\n",
       "      <td>0</td>\n",
       "      <td>normal</td>\n",
       "      <td>No</td>\n",
       "    </tr>\n",
       "  </tbody>\n",
       "</table>\n",
       "</div>"
      ],
      "text/plain": [
       "   Unnamed: 0  Age  Sex     ChestPain  RestBP  Chol  Fbs  RestECG  MaxHR  \\\n",
       "0           1   63    1       typical     145   233    1        2    150   \n",
       "1           2   67    1  asymptomatic     160   286    0        2    108   \n",
       "2           3   67    1  asymptomatic     120   229    0        2    129   \n",
       "3           4   37    1    nonanginal     130   250    0        0    187   \n",
       "4           5   41    0    nontypical     130   204    0        2    172   \n",
       "\n",
       "   ExAng  Oldpeak  Slope  Ca        Thal  AHD  \n",
       "0      0      2.3      3   0       fixed   No  \n",
       "1      1      1.5      2   3      normal  Yes  \n",
       "2      1      2.6      2   2  reversable  Yes  \n",
       "3      0      3.5      3   0      normal   No  \n",
       "4      0      1.4      1   0      normal   No  "
      ]
     },
     "execution_count": 103,
     "metadata": {},
     "output_type": "execute_result"
    }
   ],
   "source": [
    "df_csv.head()"
   ]
  },
  {
   "cell_type": "markdown",
   "metadata": {
    "id": "InTCgUmM0ZIQ"
   },
   "source": [
    "Bước đầu, chúng ta sẽ kiểm tra số hàng và số cột trong DataFrame `df_csv`."
   ]
  },
  {
   "cell_type": "code",
   "execution_count": 104,
   "metadata": {
    "colab": {
     "base_uri": "https://localhost:8080/"
    },
    "id": "ehAkEmQx0ZIQ",
    "outputId": "8bc69cd0-bc41-4a81-ac7b-430728cb2483"
   },
   "outputs": [
    {
     "data": {
      "text/plain": [
       "(50, 15)"
      ]
     },
     "execution_count": 104,
     "metadata": {},
     "output_type": "execute_result"
    }
   ],
   "source": [
    "df_csv.shape"
   ]
  },
  {
   "cell_type": "markdown",
   "metadata": {
    "id": "OlFzOX5s0ZIQ"
   },
   "source": [
    "Loại bỏ cột `Unnamed: 0` từ DataFrame `df_csv` bằng cách sử dụng phương thức `drop`, sau đó lưu kết quả vào biến `df_csv_after`. Lưu ý rằng, dữ liệu của biến `df_csv` phải được giữ nguyên."
   ]
  },
  {
   "cell_type": "code",
   "execution_count": 105,
   "metadata": {
    "id": "sZEnSHFf0ZIQ"
   },
   "outputs": [],
   "source": [
    "### BEGIN SOLUTION\n",
    "df_csv_after = df_csv\n",
    "df_csv_after = df_csv_after.drop(columns = ['Unnamed: 0'])\n",
    "### END SOLUTION"
   ]
  },
  {
   "cell_type": "code",
   "execution_count": 106,
   "metadata": {
    "id": "ikyeIohK0ZIR"
   },
   "outputs": [],
   "source": [
    "assert df_csv_after.shape == (50, 14)"
   ]
  },
  {
   "cell_type": "markdown",
   "metadata": {
    "id": "zpl6A4840ZIR"
   },
   "source": [
    "### 4. Thêm Dòng"
   ]
  },
  {
   "cell_type": "code",
   "execution_count": 107,
   "metadata": {
    "colab": {
     "base_uri": "https://localhost:8080/",
     "height": 206
    },
    "id": "w3Ac31l-0ZIR",
    "outputId": "41cf6494-4ef0-4189-b901-b0065eeb9e7c"
   },
   "outputs": [
    {
     "data": {
      "text/html": [
       "<div>\n",
       "<style scoped>\n",
       "    .dataframe tbody tr th:only-of-type {\n",
       "        vertical-align: middle;\n",
       "    }\n",
       "\n",
       "    .dataframe tbody tr th {\n",
       "        vertical-align: top;\n",
       "    }\n",
       "\n",
       "    .dataframe thead th {\n",
       "        text-align: right;\n",
       "    }\n",
       "</style>\n",
       "<table border=\"1\" class=\"dataframe\">\n",
       "  <thead>\n",
       "    <tr style=\"text-align: right;\">\n",
       "      <th></th>\n",
       "      <th>Age</th>\n",
       "      <th>Sex</th>\n",
       "      <th>ChestPain</th>\n",
       "      <th>RestBP</th>\n",
       "      <th>Chol</th>\n",
       "      <th>Fbs</th>\n",
       "      <th>RestECG</th>\n",
       "      <th>MaxHR</th>\n",
       "      <th>ExAng</th>\n",
       "      <th>Oldpeak</th>\n",
       "      <th>Slope</th>\n",
       "      <th>Ca</th>\n",
       "      <th>Thal</th>\n",
       "      <th>AHD</th>\n",
       "    </tr>\n",
       "  </thead>\n",
       "  <tbody>\n",
       "    <tr>\n",
       "      <th>0</th>\n",
       "      <td>63</td>\n",
       "      <td>1</td>\n",
       "      <td>typical</td>\n",
       "      <td>145</td>\n",
       "      <td>233</td>\n",
       "      <td>1</td>\n",
       "      <td>2</td>\n",
       "      <td>150</td>\n",
       "      <td>0</td>\n",
       "      <td>2.3</td>\n",
       "      <td>3</td>\n",
       "      <td>0</td>\n",
       "      <td>fixed</td>\n",
       "      <td>No</td>\n",
       "    </tr>\n",
       "    <tr>\n",
       "      <th>1</th>\n",
       "      <td>67</td>\n",
       "      <td>1</td>\n",
       "      <td>asymptomatic</td>\n",
       "      <td>160</td>\n",
       "      <td>286</td>\n",
       "      <td>0</td>\n",
       "      <td>2</td>\n",
       "      <td>108</td>\n",
       "      <td>1</td>\n",
       "      <td>1.5</td>\n",
       "      <td>2</td>\n",
       "      <td>3</td>\n",
       "      <td>normal</td>\n",
       "      <td>Yes</td>\n",
       "    </tr>\n",
       "    <tr>\n",
       "      <th>2</th>\n",
       "      <td>67</td>\n",
       "      <td>1</td>\n",
       "      <td>asymptomatic</td>\n",
       "      <td>120</td>\n",
       "      <td>229</td>\n",
       "      <td>0</td>\n",
       "      <td>2</td>\n",
       "      <td>129</td>\n",
       "      <td>1</td>\n",
       "      <td>2.6</td>\n",
       "      <td>2</td>\n",
       "      <td>2</td>\n",
       "      <td>reversable</td>\n",
       "      <td>Yes</td>\n",
       "    </tr>\n",
       "    <tr>\n",
       "      <th>3</th>\n",
       "      <td>37</td>\n",
       "      <td>1</td>\n",
       "      <td>nonanginal</td>\n",
       "      <td>130</td>\n",
       "      <td>250</td>\n",
       "      <td>0</td>\n",
       "      <td>0</td>\n",
       "      <td>187</td>\n",
       "      <td>0</td>\n",
       "      <td>3.5</td>\n",
       "      <td>3</td>\n",
       "      <td>0</td>\n",
       "      <td>normal</td>\n",
       "      <td>No</td>\n",
       "    </tr>\n",
       "    <tr>\n",
       "      <th>4</th>\n",
       "      <td>41</td>\n",
       "      <td>0</td>\n",
       "      <td>nontypical</td>\n",
       "      <td>130</td>\n",
       "      <td>204</td>\n",
       "      <td>0</td>\n",
       "      <td>2</td>\n",
       "      <td>172</td>\n",
       "      <td>0</td>\n",
       "      <td>1.4</td>\n",
       "      <td>1</td>\n",
       "      <td>0</td>\n",
       "      <td>normal</td>\n",
       "      <td>No</td>\n",
       "    </tr>\n",
       "  </tbody>\n",
       "</table>\n",
       "</div>"
      ],
      "text/plain": [
       "   Age  Sex     ChestPain  RestBP  Chol  Fbs  RestECG  MaxHR  ExAng  Oldpeak  \\\n",
       "0   63    1       typical     145   233    1        2    150      0      2.3   \n",
       "1   67    1  asymptomatic     160   286    0        2    108      1      1.5   \n",
       "2   67    1  asymptomatic     120   229    0        2    129      1      2.6   \n",
       "3   37    1    nonanginal     130   250    0        0    187      0      3.5   \n",
       "4   41    0    nontypical     130   204    0        2    172      0      1.4   \n",
       "\n",
       "   Slope  Ca        Thal  AHD  \n",
       "0      3   0       fixed   No  \n",
       "1      2   3      normal  Yes  \n",
       "2      2   2  reversable  Yes  \n",
       "3      3   0      normal   No  \n",
       "4      1   0      normal   No  "
      ]
     },
     "execution_count": 107,
     "metadata": {},
     "output_type": "execute_result"
    }
   ],
   "source": [
    "df_csv_after.head()"
   ]
  },
  {
   "cell_type": "code",
   "execution_count": 108,
   "metadata": {
    "id": "bKk5quUi0ZIR"
   },
   "outputs": [],
   "source": [
    "new_row = pd.DataFrame([{'Age': 18, 'Sex': 1, 'ChestPain': 'typical', 'RestBP': 144, 'Chol': 231, 'Fbs': 1, 'RestECG': 2, 'MaxHR': 150, 'ExAng': 1, 'Oldpeak': 2.4, 'Slope': 1, 'Ca': 3, 'Thal': 'normal', 'AHD': 'No'}])"
   ]
  },
  {
   "cell_type": "markdown",
   "metadata": {
    "id": "t2erzXVx0ZIR"
   },
   "source": [
    "Thêm dòng `new_row` vào cuối DataFrame `df_csv_after` bằng phương thức `concat` của thư viện `pandas` với tham số `ignore_index=True`, sau đó gán lại vào biến `df_combined`. Đảm bảo rằng dữ liệu của biến `df_csv_after` được giữ nguyên."
   ]
  },
  {
   "cell_type": "code",
   "execution_count": 109,
   "metadata": {
    "colab": {
     "base_uri": "https://localhost:8080/",
     "height": 206
    },
    "id": "xQY8qB-O0ZIR",
    "outputId": "9b0fbc8b-811e-4a8a-c47e-9341e18524b5"
   },
   "outputs": [
    {
     "data": {
      "text/html": [
       "<div>\n",
       "<style scoped>\n",
       "    .dataframe tbody tr th:only-of-type {\n",
       "        vertical-align: middle;\n",
       "    }\n",
       "\n",
       "    .dataframe tbody tr th {\n",
       "        vertical-align: top;\n",
       "    }\n",
       "\n",
       "    .dataframe thead th {\n",
       "        text-align: right;\n",
       "    }\n",
       "</style>\n",
       "<table border=\"1\" class=\"dataframe\">\n",
       "  <thead>\n",
       "    <tr style=\"text-align: right;\">\n",
       "      <th></th>\n",
       "      <th>Age</th>\n",
       "      <th>Sex</th>\n",
       "      <th>ChestPain</th>\n",
       "      <th>RestBP</th>\n",
       "      <th>Chol</th>\n",
       "      <th>Fbs</th>\n",
       "      <th>RestECG</th>\n",
       "      <th>MaxHR</th>\n",
       "      <th>ExAng</th>\n",
       "      <th>Oldpeak</th>\n",
       "      <th>Slope</th>\n",
       "      <th>Ca</th>\n",
       "      <th>Thal</th>\n",
       "      <th>AHD</th>\n",
       "    </tr>\n",
       "  </thead>\n",
       "  <tbody>\n",
       "    <tr>\n",
       "      <th>46</th>\n",
       "      <td>51</td>\n",
       "      <td>1</td>\n",
       "      <td>nonanginal</td>\n",
       "      <td>110</td>\n",
       "      <td>175</td>\n",
       "      <td>0</td>\n",
       "      <td>0</td>\n",
       "      <td>123</td>\n",
       "      <td>0</td>\n",
       "      <td>0.6</td>\n",
       "      <td>1</td>\n",
       "      <td>0</td>\n",
       "      <td>normal</td>\n",
       "      <td>No</td>\n",
       "    </tr>\n",
       "    <tr>\n",
       "      <th>47</th>\n",
       "      <td>50</td>\n",
       "      <td>1</td>\n",
       "      <td>asymptomatic</td>\n",
       "      <td>150</td>\n",
       "      <td>243</td>\n",
       "      <td>0</td>\n",
       "      <td>2</td>\n",
       "      <td>128</td>\n",
       "      <td>0</td>\n",
       "      <td>2.6</td>\n",
       "      <td>2</td>\n",
       "      <td>0</td>\n",
       "      <td>reversable</td>\n",
       "      <td>Yes</td>\n",
       "    </tr>\n",
       "    <tr>\n",
       "      <th>48</th>\n",
       "      <td>65</td>\n",
       "      <td>0</td>\n",
       "      <td>nonanginal</td>\n",
       "      <td>140</td>\n",
       "      <td>417</td>\n",
       "      <td>1</td>\n",
       "      <td>2</td>\n",
       "      <td>157</td>\n",
       "      <td>0</td>\n",
       "      <td>0.8</td>\n",
       "      <td>1</td>\n",
       "      <td>1</td>\n",
       "      <td>normal</td>\n",
       "      <td>No</td>\n",
       "    </tr>\n",
       "    <tr>\n",
       "      <th>49</th>\n",
       "      <td>53</td>\n",
       "      <td>1</td>\n",
       "      <td>nonanginal</td>\n",
       "      <td>130</td>\n",
       "      <td>197</td>\n",
       "      <td>1</td>\n",
       "      <td>2</td>\n",
       "      <td>152</td>\n",
       "      <td>0</td>\n",
       "      <td>1.2</td>\n",
       "      <td>3</td>\n",
       "      <td>0</td>\n",
       "      <td>normal</td>\n",
       "      <td>No</td>\n",
       "    </tr>\n",
       "    <tr>\n",
       "      <th>50</th>\n",
       "      <td>18</td>\n",
       "      <td>1</td>\n",
       "      <td>typical</td>\n",
       "      <td>144</td>\n",
       "      <td>231</td>\n",
       "      <td>1</td>\n",
       "      <td>2</td>\n",
       "      <td>150</td>\n",
       "      <td>1</td>\n",
       "      <td>2.4</td>\n",
       "      <td>1</td>\n",
       "      <td>3</td>\n",
       "      <td>normal</td>\n",
       "      <td>No</td>\n",
       "    </tr>\n",
       "  </tbody>\n",
       "</table>\n",
       "</div>"
      ],
      "text/plain": [
       "    Age  Sex     ChestPain  RestBP  Chol  Fbs  RestECG  MaxHR  ExAng  Oldpeak  \\\n",
       "46   51    1    nonanginal     110   175    0        0    123      0      0.6   \n",
       "47   50    1  asymptomatic     150   243    0        2    128      0      2.6   \n",
       "48   65    0    nonanginal     140   417    1        2    157      0      0.8   \n",
       "49   53    1    nonanginal     130   197    1        2    152      0      1.2   \n",
       "50   18    1       typical     144   231    1        2    150      1      2.4   \n",
       "\n",
       "    Slope  Ca        Thal  AHD  \n",
       "46      1   0      normal   No  \n",
       "47      2   0  reversable  Yes  \n",
       "48      1   1      normal   No  \n",
       "49      3   0      normal   No  \n",
       "50      1   3      normal   No  "
      ]
     },
     "execution_count": 109,
     "metadata": {},
     "output_type": "execute_result"
    }
   ],
   "source": [
    "### BEGIN SOLUTION\n",
    "df_csv_after = pd.concat([df_csv_after, new_row], ignore_index = True)\n",
    "df_combined = df_csv_after\n",
    "\n",
    "### END SOLUTION\n",
    "df_combined.tail()"
   ]
  },
  {
   "cell_type": "code",
   "execution_count": 110,
   "metadata": {
    "id": "XMMwgy5o0ZIR"
   },
   "outputs": [],
   "source": [
    "### BEGIN HIDDEN TESTS\n",
    "assert df_combined.shape == (51, 14)\n",
    "assert (df_combined.iloc[-1] == new_row.iloc[-1]).all()\n",
    "### END HIDDEN TESTS"
   ]
  },
  {
   "cell_type": "markdown",
   "metadata": {
    "id": "zNaXYkBJ0ZIR"
   },
   "source": [
    "### 5. Thêm cột"
   ]
  },
  {
   "cell_type": "code",
   "execution_count": 111,
   "metadata": {
    "colab": {
     "base_uri": "https://localhost:8080/"
    },
    "id": "FrfRBe-R0ZIR",
    "outputId": "c86cebf3-3b0a-4d83-cd3c-3a2ceb20615f"
   },
   "outputs": [
    {
     "data": {
      "text/plain": [
       "(51, 14)"
      ]
     },
     "execution_count": 111,
     "metadata": {},
     "output_type": "execute_result"
    }
   ],
   "source": [
    "df_combined.shape"
   ]
  },
  {
   "cell_type": "markdown",
   "metadata": {
    "id": "twwDb0xi0ZIR"
   },
   "source": [
    "Chúng ta sẽ tạo một mảng gồm 51 phần tử (tương ứng với số hàng của DataFrame)."
   ]
  },
  {
   "cell_type": "code",
   "execution_count": 112,
   "metadata": {
    "colab": {
     "base_uri": "https://localhost:8080/"
    },
    "id": "U8svq7OZ0ZIR",
    "outputId": "d3994f8e-78c6-4254-c261-bf125f4b8dff"
   },
   "outputs": [
    {
     "data": {
      "text/plain": [
       "array([4, 0, 3, 3, 3, 1, 3, 2, 4, 0, 0, 4, 2, 1, 0, 1, 1, 0, 1, 4, 3, 0,\n",
       "       3, 0, 2, 3, 0, 1, 3, 3, 3, 0, 1, 1, 1, 0, 2, 4, 3, 3, 2, 4, 2, 0,\n",
       "       0, 4, 0, 4, 1, 4, 1])"
      ]
     },
     "execution_count": 112,
     "metadata": {},
     "output_type": "execute_result"
    }
   ],
   "source": [
    "import numpy as np\n",
    "np.random.seed(0)\n",
    "new_col = np.random.randint(5, size=51)\n",
    "new_col"
   ]
  },
  {
   "cell_type": "markdown",
   "metadata": {
    "id": "_b3XBoq60ZIS"
   },
   "source": [
    "Thông thường, để thêm cột có hai cách chính:\n",
    "1. Thêm trực tiếp vào DataFrame.\n",
    "2. Sử dụng phương thức `insert` của DataFrame."
   ]
  },
  {
   "cell_type": "markdown",
   "metadata": {
    "id": "4hCRwIhJzQ7I"
   },
   "source": [
    "**5.1. Thêm trực tiếp**\n",
    "\n",
    "Ở đây, ta sẽ thêm trực tiếp cột `new_col` vào cuối DataFrame với nhãn là `new`. Dòng lệnh bắt buộc phải được bắt đầu bằng `df_combined['new'] = ` và biểu thức bên phải dấu bằng tuỳ thuộc vào cách thực hiện của bạn."
   ]
  },
  {
   "cell_type": "code",
   "execution_count": 113,
   "metadata": {
    "colab": {
     "base_uri": "https://localhost:8080/",
     "height": 206
    },
    "id": "Ooc1GmV20ZIS",
    "outputId": "d30d8c85-db53-414f-be94-567a32cf3adf"
   },
   "outputs": [
    {
     "data": {
      "text/html": [
       "<div>\n",
       "<style scoped>\n",
       "    .dataframe tbody tr th:only-of-type {\n",
       "        vertical-align: middle;\n",
       "    }\n",
       "\n",
       "    .dataframe tbody tr th {\n",
       "        vertical-align: top;\n",
       "    }\n",
       "\n",
       "    .dataframe thead th {\n",
       "        text-align: right;\n",
       "    }\n",
       "</style>\n",
       "<table border=\"1\" class=\"dataframe\">\n",
       "  <thead>\n",
       "    <tr style=\"text-align: right;\">\n",
       "      <th></th>\n",
       "      <th>Age</th>\n",
       "      <th>Sex</th>\n",
       "      <th>ChestPain</th>\n",
       "      <th>RestBP</th>\n",
       "      <th>Chol</th>\n",
       "      <th>Fbs</th>\n",
       "      <th>RestECG</th>\n",
       "      <th>MaxHR</th>\n",
       "      <th>ExAng</th>\n",
       "      <th>Oldpeak</th>\n",
       "      <th>Slope</th>\n",
       "      <th>Ca</th>\n",
       "      <th>Thal</th>\n",
       "      <th>AHD</th>\n",
       "      <th>new</th>\n",
       "    </tr>\n",
       "  </thead>\n",
       "  <tbody>\n",
       "    <tr>\n",
       "      <th>46</th>\n",
       "      <td>51</td>\n",
       "      <td>1</td>\n",
       "      <td>nonanginal</td>\n",
       "      <td>110</td>\n",
       "      <td>175</td>\n",
       "      <td>0</td>\n",
       "      <td>0</td>\n",
       "      <td>123</td>\n",
       "      <td>0</td>\n",
       "      <td>0.6</td>\n",
       "      <td>1</td>\n",
       "      <td>0</td>\n",
       "      <td>normal</td>\n",
       "      <td>No</td>\n",
       "      <td>0</td>\n",
       "    </tr>\n",
       "    <tr>\n",
       "      <th>47</th>\n",
       "      <td>50</td>\n",
       "      <td>1</td>\n",
       "      <td>asymptomatic</td>\n",
       "      <td>150</td>\n",
       "      <td>243</td>\n",
       "      <td>0</td>\n",
       "      <td>2</td>\n",
       "      <td>128</td>\n",
       "      <td>0</td>\n",
       "      <td>2.6</td>\n",
       "      <td>2</td>\n",
       "      <td>0</td>\n",
       "      <td>reversable</td>\n",
       "      <td>Yes</td>\n",
       "      <td>4</td>\n",
       "    </tr>\n",
       "    <tr>\n",
       "      <th>48</th>\n",
       "      <td>65</td>\n",
       "      <td>0</td>\n",
       "      <td>nonanginal</td>\n",
       "      <td>140</td>\n",
       "      <td>417</td>\n",
       "      <td>1</td>\n",
       "      <td>2</td>\n",
       "      <td>157</td>\n",
       "      <td>0</td>\n",
       "      <td>0.8</td>\n",
       "      <td>1</td>\n",
       "      <td>1</td>\n",
       "      <td>normal</td>\n",
       "      <td>No</td>\n",
       "      <td>1</td>\n",
       "    </tr>\n",
       "    <tr>\n",
       "      <th>49</th>\n",
       "      <td>53</td>\n",
       "      <td>1</td>\n",
       "      <td>nonanginal</td>\n",
       "      <td>130</td>\n",
       "      <td>197</td>\n",
       "      <td>1</td>\n",
       "      <td>2</td>\n",
       "      <td>152</td>\n",
       "      <td>0</td>\n",
       "      <td>1.2</td>\n",
       "      <td>3</td>\n",
       "      <td>0</td>\n",
       "      <td>normal</td>\n",
       "      <td>No</td>\n",
       "      <td>4</td>\n",
       "    </tr>\n",
       "    <tr>\n",
       "      <th>50</th>\n",
       "      <td>18</td>\n",
       "      <td>1</td>\n",
       "      <td>typical</td>\n",
       "      <td>144</td>\n",
       "      <td>231</td>\n",
       "      <td>1</td>\n",
       "      <td>2</td>\n",
       "      <td>150</td>\n",
       "      <td>1</td>\n",
       "      <td>2.4</td>\n",
       "      <td>1</td>\n",
       "      <td>3</td>\n",
       "      <td>normal</td>\n",
       "      <td>No</td>\n",
       "      <td>1</td>\n",
       "    </tr>\n",
       "  </tbody>\n",
       "</table>\n",
       "</div>"
      ],
      "text/plain": [
       "    Age  Sex     ChestPain  RestBP  Chol  Fbs  RestECG  MaxHR  ExAng  Oldpeak  \\\n",
       "46   51    1    nonanginal     110   175    0        0    123      0      0.6   \n",
       "47   50    1  asymptomatic     150   243    0        2    128      0      2.6   \n",
       "48   65    0    nonanginal     140   417    1        2    157      0      0.8   \n",
       "49   53    1    nonanginal     130   197    1        2    152      0      1.2   \n",
       "50   18    1       typical     144   231    1        2    150      1      2.4   \n",
       "\n",
       "    Slope  Ca        Thal  AHD  new  \n",
       "46      1   0      normal   No    0  \n",
       "47      2   0  reversable  Yes    4  \n",
       "48      1   1      normal   No    1  \n",
       "49      3   0      normal   No    4  \n",
       "50      1   3      normal   No    1  "
      ]
     },
     "execution_count": 113,
     "metadata": {},
     "output_type": "execute_result"
    }
   ],
   "source": [
    "### BEGIN SOLUTION\n",
    "df_combined['new'] = new_col\n",
    "\n",
    "### END SOLUTION\n",
    "df_combined.tail()"
   ]
  },
  {
   "cell_type": "code",
   "execution_count": 114,
   "metadata": {
    "id": "Y-GH9Bmc0ZIS"
   },
   "outputs": [],
   "source": [
    "assert df_combined.shape == (51, 15)"
   ]
  },
  {
   "cell_type": "code",
   "execution_count": 115,
   "metadata": {
    "id": "BPHJSuXT0ZIT"
   },
   "outputs": [],
   "source": [
    "### BEGIN HIDDEN TESTS\n",
    "assert df_combined.columns[2] == 'ChestPain'\n",
    "assert df_combined.iloc[50, 14] == 1\n",
    "assert df_combined['new'][50] == 1\n",
    "assert df_combined.columns[14] == 'new'\n",
    "### END HIDDEN TESTS"
   ]
  },
  {
   "cell_type": "markdown",
   "metadata": {
    "id": "uSe6_VyX0ZIT"
   },
   "source": [
    "**5.2. Thêm bằng phương thức `insert` của DataFrame**\n",
    "\n",
    "Sử dụng phương thức `insert` có lợi ích là bạn có thể chỉ định vị trí cụ thể của cột mà bạn muốn thêm. Ở đây, chúng ta sẽ thêm cột `new_col` vào vị trí thứ 2 của DataFrame `df_combined` với nhãn là `new_col_1`.\n",
    "\n",
    "Lưu ý rằng, khi sử dụng phương thức `insert`, bạn không cần phải gán lại giá trị cho DataFrame, tức là phương thức này sẽ không trả về giá trị nào."
   ]
  },
  {
   "cell_type": "code",
   "execution_count": 116,
   "metadata": {
    "colab": {
     "base_uri": "https://localhost:8080/",
     "height": 206
    },
    "id": "C9TAG4yp0ZIT",
    "outputId": "e9402b6f-e657-4f8a-8984-8fc142dba460"
   },
   "outputs": [
    {
     "data": {
      "text/html": [
       "<div>\n",
       "<style scoped>\n",
       "    .dataframe tbody tr th:only-of-type {\n",
       "        vertical-align: middle;\n",
       "    }\n",
       "\n",
       "    .dataframe tbody tr th {\n",
       "        vertical-align: top;\n",
       "    }\n",
       "\n",
       "    .dataframe thead th {\n",
       "        text-align: right;\n",
       "    }\n",
       "</style>\n",
       "<table border=\"1\" class=\"dataframe\">\n",
       "  <thead>\n",
       "    <tr style=\"text-align: right;\">\n",
       "      <th></th>\n",
       "      <th>Age</th>\n",
       "      <th>Sex</th>\n",
       "      <th>new_col_1</th>\n",
       "      <th>ChestPain</th>\n",
       "      <th>RestBP</th>\n",
       "      <th>Chol</th>\n",
       "      <th>Fbs</th>\n",
       "      <th>RestECG</th>\n",
       "      <th>MaxHR</th>\n",
       "      <th>ExAng</th>\n",
       "      <th>Oldpeak</th>\n",
       "      <th>Slope</th>\n",
       "      <th>Ca</th>\n",
       "      <th>Thal</th>\n",
       "      <th>AHD</th>\n",
       "      <th>new</th>\n",
       "    </tr>\n",
       "  </thead>\n",
       "  <tbody>\n",
       "    <tr>\n",
       "      <th>0</th>\n",
       "      <td>63</td>\n",
       "      <td>1</td>\n",
       "      <td>4</td>\n",
       "      <td>typical</td>\n",
       "      <td>145</td>\n",
       "      <td>233</td>\n",
       "      <td>1</td>\n",
       "      <td>2</td>\n",
       "      <td>150</td>\n",
       "      <td>0</td>\n",
       "      <td>2.3</td>\n",
       "      <td>3</td>\n",
       "      <td>0</td>\n",
       "      <td>fixed</td>\n",
       "      <td>No</td>\n",
       "      <td>4</td>\n",
       "    </tr>\n",
       "    <tr>\n",
       "      <th>1</th>\n",
       "      <td>67</td>\n",
       "      <td>1</td>\n",
       "      <td>0</td>\n",
       "      <td>asymptomatic</td>\n",
       "      <td>160</td>\n",
       "      <td>286</td>\n",
       "      <td>0</td>\n",
       "      <td>2</td>\n",
       "      <td>108</td>\n",
       "      <td>1</td>\n",
       "      <td>1.5</td>\n",
       "      <td>2</td>\n",
       "      <td>3</td>\n",
       "      <td>normal</td>\n",
       "      <td>Yes</td>\n",
       "      <td>0</td>\n",
       "    </tr>\n",
       "    <tr>\n",
       "      <th>2</th>\n",
       "      <td>67</td>\n",
       "      <td>1</td>\n",
       "      <td>3</td>\n",
       "      <td>asymptomatic</td>\n",
       "      <td>120</td>\n",
       "      <td>229</td>\n",
       "      <td>0</td>\n",
       "      <td>2</td>\n",
       "      <td>129</td>\n",
       "      <td>1</td>\n",
       "      <td>2.6</td>\n",
       "      <td>2</td>\n",
       "      <td>2</td>\n",
       "      <td>reversable</td>\n",
       "      <td>Yes</td>\n",
       "      <td>3</td>\n",
       "    </tr>\n",
       "    <tr>\n",
       "      <th>3</th>\n",
       "      <td>37</td>\n",
       "      <td>1</td>\n",
       "      <td>3</td>\n",
       "      <td>nonanginal</td>\n",
       "      <td>130</td>\n",
       "      <td>250</td>\n",
       "      <td>0</td>\n",
       "      <td>0</td>\n",
       "      <td>187</td>\n",
       "      <td>0</td>\n",
       "      <td>3.5</td>\n",
       "      <td>3</td>\n",
       "      <td>0</td>\n",
       "      <td>normal</td>\n",
       "      <td>No</td>\n",
       "      <td>3</td>\n",
       "    </tr>\n",
       "    <tr>\n",
       "      <th>4</th>\n",
       "      <td>41</td>\n",
       "      <td>0</td>\n",
       "      <td>3</td>\n",
       "      <td>nontypical</td>\n",
       "      <td>130</td>\n",
       "      <td>204</td>\n",
       "      <td>0</td>\n",
       "      <td>2</td>\n",
       "      <td>172</td>\n",
       "      <td>0</td>\n",
       "      <td>1.4</td>\n",
       "      <td>1</td>\n",
       "      <td>0</td>\n",
       "      <td>normal</td>\n",
       "      <td>No</td>\n",
       "      <td>3</td>\n",
       "    </tr>\n",
       "  </tbody>\n",
       "</table>\n",
       "</div>"
      ],
      "text/plain": [
       "   Age  Sex  new_col_1     ChestPain  RestBP  Chol  Fbs  RestECG  MaxHR  \\\n",
       "0   63    1          4       typical     145   233    1        2    150   \n",
       "1   67    1          0  asymptomatic     160   286    0        2    108   \n",
       "2   67    1          3  asymptomatic     120   229    0        2    129   \n",
       "3   37    1          3    nonanginal     130   250    0        0    187   \n",
       "4   41    0          3    nontypical     130   204    0        2    172   \n",
       "\n",
       "   ExAng  Oldpeak  Slope  Ca        Thal  AHD  new  \n",
       "0      0      2.3      3   0       fixed   No    4  \n",
       "1      1      1.5      2   3      normal  Yes    0  \n",
       "2      1      2.6      2   2  reversable  Yes    3  \n",
       "3      0      3.5      3   0      normal   No    3  \n",
       "4      0      1.4      1   0      normal   No    3  "
      ]
     },
     "execution_count": 116,
     "metadata": {},
     "output_type": "execute_result"
    }
   ],
   "source": [
    "### BEGIN SOLUTION\n",
    "df_combined.insert(2, 'new_col_1', new_col)\n",
    "### END SOLUTION\n",
    "df_combined.head()"
   ]
  },
  {
   "cell_type": "code",
   "execution_count": 117,
   "metadata": {
    "id": "qk1FcLQV0ZIT"
   },
   "outputs": [],
   "source": [
    "### BEGIN HIDDEN TESTS\n",
    "assert df_combined.columns[2] == 'new_col_1'\n",
    "assert df_combined['new_col_1'][0] == 4\n",
    "### END HIDDEN TESTS"
   ]
  },
  {
   "cell_type": "markdown",
   "metadata": {
    "id": "U8cOEV7f0ZIT"
   },
   "source": [
    "### 6. Thay Đổi Giá Trị trong DataFrame\n",
    "\n",
    "Để thay đổi giá trị trong DataFrame, chúng ta sử dụng phương thức `iloc` hoặc `at` của DataFrame.\n",
    "\n",
    "- Sử dụng phương thức `iloc`, bạn cần chỉ định hai số tương ứng với vị trí hàng và cột của giá trị cần thay đổi.\n",
    "\n",
    "- Sử dụng phương thức `at`, bạn cần truyền chính xác tên hàng và tên cột.\n",
    "\n",
    "- Đối với phương thức `iloc`, nếu bạn muốn lấy giá trị của toàn bộ hàng, bạn chỉ cần truyền vào hàng đó mà không cần truyền vào cột. Ngược lại, nếu bạn muốn lấy toàn bộ cột, bạn chỉ cần truyền vào cột đó và đặt dấu `:` trước dấu `,`.\n",
    "\n",
    "Để thay đổi giá trị, bạn chỉ cần gán giá trị mới vào vị trí tương ứng."
   ]
  },
  {
   "cell_type": "code",
   "execution_count": 118,
   "metadata": {
    "colab": {
     "base_uri": "https://localhost:8080/"
    },
    "id": "F25piWOt0ZIT",
    "outputId": "f9976f65-8081-4411-f1ec-b147a0c79734"
   },
   "outputs": [
    {
     "name": "stdout",
     "output_type": "stream",
     "text": [
      "63\n"
     ]
    },
    {
     "data": {
      "text/plain": [
       "63"
      ]
     },
     "execution_count": 118,
     "metadata": {},
     "output_type": "execute_result"
    }
   ],
   "source": [
    "print(df_combined.iloc[0, 0])\n",
    "df_combined.at[0, 'Age']"
   ]
  },
  {
   "cell_type": "code",
   "execution_count": 119,
   "metadata": {
    "colab": {
     "base_uri": "https://localhost:8080/"
    },
    "id": "kRzJ15f60ZIT",
    "outputId": "ecdd9c5a-d9a7-4ce6-cd1b-00b6ac74f009"
   },
   "outputs": [
    {
     "data": {
      "text/plain": [
       "array([3, 4, 0, 1, 3, 0, 0, 1, 4, 4, 1, 2, 4, 2, 4, 3, 4, 2, 4, 2, 4, 1,\n",
       "       1, 0, 1, 1, 1, 1, 0, 4, 1, 0, 0, 3, 2, 1, 0, 3, 1, 1, 3, 4, 0, 1,\n",
       "       3, 4, 2, 4, 0, 3, 1])"
      ]
     },
     "execution_count": 119,
     "metadata": {},
     "output_type": "execute_result"
    }
   ],
   "source": [
    "np.random.seed(1)\n",
    "change_val = np.random.randint(5, size=51)\n",
    "change_val"
   ]
  },
  {
   "cell_type": "markdown",
   "metadata": {
    "id": "Aa6ojSYx0ZIT"
   },
   "source": [
    "Thay đổi giá trị của cột có tên là `'new'` của DataFrame `df_combined` bằng giá trị từ danh sách `change_val`."
   ]
  },
  {
   "cell_type": "code",
   "execution_count": 120,
   "metadata": {
    "id": "IhjkjWld0ZIT"
   },
   "outputs": [],
   "source": [
    "### BEGIN SOLUTION\n",
    "df_combined['new'] = change_val\n",
    "### END SOLUTION"
   ]
  },
  {
   "cell_type": "code",
   "execution_count": 121,
   "metadata": {
    "id": "p34PSIda0ZIT"
   },
   "outputs": [],
   "source": [
    "### BEGIN HIDDEN TESTS\n",
    "a = df_combined.iloc[:, -1]\n",
    "assert a.sum() == change_val.sum()\n",
    "### END HIDDEN TESTS"
   ]
  }
 ],
 "metadata": {
  "colab": {
   "provenance": []
  },
  "kernelspec": {
   "display_name": "Python 3 (ipykernel)",
   "language": "python",
   "name": "python3"
  },
  "language_info": {
   "codemirror_mode": {
    "name": "ipython",
    "version": 3
   },
   "file_extension": ".py",
   "mimetype": "text/x-python",
   "name": "python",
   "nbconvert_exporter": "python",
   "pygments_lexer": "ipython3",
   "version": "3.11.1"
  }
 },
 "nbformat": 4,
 "nbformat_minor": 4
}
